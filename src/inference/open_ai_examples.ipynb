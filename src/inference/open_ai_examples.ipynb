{
 "cells": [
  {
   "cell_type": "code",
   "execution_count": 6,
   "metadata": {},
   "outputs": [
    {
     "data": {
      "text/plain": [
       "True"
      ]
     },
     "execution_count": 6,
     "metadata": {},
     "output_type": "execute_result"
    }
   ],
   "source": [
    "import os,sys\n",
    "sys.path.insert(0,'../libs')\n",
    "from dotenv import load_dotenv\n",
    "import openai\n",
    "from tqdm import tqdm\n",
    "env_path = '../../.env'\n",
    "load_dotenv(dotenv_path=env_path)"
   ]
  },
  {
   "cell_type": "markdown",
   "metadata": {},
   "source": [
    "#### Most basic example"
   ]
  },
  {
   "cell_type": "code",
   "execution_count": 4,
   "metadata": {},
   "outputs": [],
   "source": [
    "# Modify OpenAI's API key and API base to use vLLM's API server.\n",
    "client = openai.OpenAI(\n",
    "    # defaults to os.environ.get(\"OPENAI_API_KEY\")\n",
    "    api_key=os.getenv(\"OPENAI_API_KEY\"),\n",
    "    #base_url=openai_api_base,\n",
    ")"
   ]
  },
  {
   "cell_type": "code",
   "execution_count": 6,
   "metadata": {},
   "outputs": [
    {
     "name": "stdout",
     "output_type": "stream",
     "text": [
      "Sure! Here's a simple number guessing game in Python:\n",
      "\n",
      "```python\n",
      "import random\n",
      "\n",
      "def guess_the_number():\n",
      "    number_to_guess = random.randint(1, 100)\n",
      "    attempts = 0\n",
      "    print(\"Welcome to the Number Guessing Game!\")\n",
      "    print(\"I'm thinking of a number between 1 and 100.\")\n",
      "\n",
      "    while True:\n",
      "        try:\n",
      "            guess = int(input(\"Take a guess: \"))\n",
      "            attempts += 1\n",
      "\n",
      "            if guess < number_to_guess:\n",
      "                print(\"Too low!\")\n",
      "            elif guess > number_to_guess:\n",
      "                print(\"Too high!\")\n",
      "            else:\n",
      "                print(f\"Congratulations! You guessed the number in {attempts} attempts.\")\n",
      "                break\n",
      "        except ValueError:\n",
      "            print(\"Please enter a valid number.\")\n",
      "\n",
      "if __name__ == \"__main__\":\n",
      "    guess_the_number()\n",
      "```\n",
      "\n",
      "To play the game, simply run the script. The program will randomly select a number between 1 and 100, and you have to guess what it is. The game will give you hints whether your guess is too low or too high, and it will keep track of the number of attempts you make.\n"
     ]
    }
   ],
   "source": [
    "messages=[\n",
    "    {\"role\": \"system\", \"content\": \"You are a helpful AI assistant\"},\n",
    "    {\"role\": \"user\", \"content\": 'Create a very short and simple game with python code'},\n",
    "]\n",
    "\n",
    "## just run one test, make sure the api works \n",
    "response = client.chat.completions.create(\n",
    "    model=\"gpt-4o-mini\", # \"llama3-8b\"  or \"llama3-70b\"\n",
    "    messages=messages,\n",
    "    temperature=0,\n",
    ")\n",
    "\n",
    "print(response.choices[0].message.content)"
   ]
  },
  {
   "cell_type": "markdown",
   "metadata": {},
   "source": [
    "#### Async calls \n",
    "- more example [here](https://github.com/openai/openai-cookbook/blob/main/examples/api_request_parallel_processor.py)"
   ]
  },
  {
   "cell_type": "code",
   "execution_count": 1,
   "metadata": {},
   "outputs": [],
   "source": [
    "import os\n",
    "import asyncio\n",
    "from openai import OpenAI, AsyncOpenAI\n",
    "from dotenv import load_dotenv\n",
    "env_path = '../../.env'\n",
    "load_dotenv(dotenv_path=env_path)\n"
   ]
  },
  {
   "cell_type": "code",
   "execution_count": 18,
   "metadata": {},
   "outputs": [],
   "source": [
    "class GPT:\n",
    "    def __init__(self,model_name='gpt-4o-mini',Async=False,api_key=None):\n",
    "\n",
    "        self.model_name = model_name\n",
    "        if api_key is None:\n",
    "            api_key = os.getenv('OPENAI_API_KEY')\n",
    "        \n",
    "        if Async:\n",
    "            print('load async client')\n",
    "            self.client = AsyncOpenAI(\n",
    "                api_key=api_key,\n",
    "            )\n",
    "        else:\n",
    "            print('load sync client')\n",
    "            self.client = OpenAI(\n",
    "                api_key=api_key,\n",
    "            )\n",
    "            \n",
    "    def response(self, user_prompt, \n",
    "                 sys_prompt=\"You are a helpful assistant.\",\n",
    "                 model_name=None):\n",
    "        if model_name is None:\n",
    "            model_name = self.model_name\n",
    "        \n",
    "        response = self.client.chat.completions.create(\n",
    "            model=model_name,\n",
    "            messages=[\n",
    "                {\"role\": \"system\", \"content\": sys_prompt},\n",
    "                {\"role\": \"user\", \"content\": user_prompt}\n",
    "            ]\n",
    "        )\n",
    "        return response\n",
    "    \n",
    "async def process_messages(messages):\n",
    "    llm = GPT(model_name='gpt-4o-mini',Async=True)\n",
    "    for message in messages:\n",
    "        response = await llm.response(message)\n",
    "        print(response.choices[0].message.content)\n",
    "\n",
    "\n",
    "async def main() -> None:\n",
    "    messages_list = [\"Say this is a test 1\",\n",
    "                    \"Say this is a test 2\",\n",
    "                    \"Say this is a test 3\",\n",
    "                    \"Say this is a test 4\",\n",
    "                    \"Say this is a test 5\",\n",
    "                    \"Say this is a test 6\",\n",
    "                    \"Say this is a test 7\",\n",
    "                    \"Say this is a test 8\",\n",
    "                    \"Say this is a test 9\",\n",
    "                    \"Say this is a test 10\",\n",
    "                    ]\n",
    "\n",
    "    await process_messages(messages_list)\n",
    "    \n",
    "    if __name__ == \"__main__\":\n",
    "        asyncio.run(main())  ## this can not be run in jupyter "
   ]
  },
  {
   "cell_type": "markdown",
   "metadata": {},
   "source": [
    "#### Batch processing with bath API\n",
    "- follow examples [here](https://cookbook.openai.com/examples/batch_processing) and [here](https://platform.openai.com/docs/guides/batch/getting-started)"
   ]
  },
  {
   "cell_type": "code",
   "execution_count": 19,
   "metadata": {},
   "outputs": [],
   "source": [
    "import json\n",
    "from openai import OpenAI\n",
    "import pandas as pd\n",
    "from IPython.display import Image, display"
   ]
  },
  {
   "cell_type": "markdown",
   "metadata": {},
   "source": [
    "#### Task - categorizing paragraphs  "
   ]
  },
  {
   "cell_type": "code",
   "execution_count": 54,
   "metadata": {},
   "outputs": [
    {
     "data": {
      "text/html": [
       "<div>\n",
       "<style scoped>\n",
       "    .dataframe tbody tr th:only-of-type {\n",
       "        vertical-align: middle;\n",
       "    }\n",
       "\n",
       "    .dataframe tbody tr th {\n",
       "        vertical-align: top;\n",
       "    }\n",
       "\n",
       "    .dataframe thead th {\n",
       "        text-align: right;\n",
       "    }\n",
       "</style>\n",
       "<table border=\"1\" class=\"dataframe\">\n",
       "  <thead>\n",
       "    <tr style=\"text-align: right;\">\n",
       "      <th></th>\n",
       "      <th>paragraph</th>\n",
       "      <th>topic_model_label</th>\n",
       "      <th>mapped_topic_label</th>\n",
       "      <th>ground_truth_label</th>\n",
       "      <th>Notes</th>\n",
       "    </tr>\n",
       "  </thead>\n",
       "  <tbody>\n",
       "    <tr>\n",
       "      <th>0</th>\n",
       "      <td>Additional, targeted fiscal support is warrant...</td>\n",
       "      <td>Fiscal Management</td>\n",
       "      <td>Fiscal Stance</td>\n",
       "      <td>Fiscal Stance</td>\n",
       "      <td>NaN</td>\n",
       "    </tr>\n",
       "    <tr>\n",
       "      <th>1</th>\n",
       "      <td>The authorities agreed that additional fiscal ...</td>\n",
       "      <td>Fiscal Management</td>\n",
       "      <td>Fiscal Stance</td>\n",
       "      <td>Fiscal Stance</td>\n",
       "      <td>NaN</td>\n",
       "    </tr>\n",
       "    <tr>\n",
       "      <th>2</th>\n",
       "      <td>Box 1. Jordan: Past Fund Staff Advice and Impl...</td>\n",
       "      <td>Fiscal Management</td>\n",
       "      <td>Fiscal Stance</td>\n",
       "      <td>Fiscal Stance</td>\n",
       "      <td>NaN</td>\n",
       "    </tr>\n",
       "    <tr>\n",
       "      <th>3</th>\n",
       "      <td>The authorities consider that geopolitical ten...</td>\n",
       "      <td>Financial Stability</td>\n",
       "      <td>Financial Stability</td>\n",
       "      <td>Financial Stability</td>\n",
       "      <td>NaN</td>\n",
       "    </tr>\n",
       "    <tr>\n",
       "      <th>4</th>\n",
       "      <td>The banking sector is in good financial health...</td>\n",
       "      <td>Financial Stability</td>\n",
       "      <td>Financial Stability</td>\n",
       "      <td>Financial Stability</td>\n",
       "      <td>NaN</td>\n",
       "    </tr>\n",
       "  </tbody>\n",
       "</table>\n",
       "</div>"
      ],
      "text/plain": [
       "                                           paragraph    topic_model_label  \\\n",
       "0  Additional, targeted fiscal support is warrant...    Fiscal Management   \n",
       "1  The authorities agreed that additional fiscal ...    Fiscal Management   \n",
       "2  Box 1. Jordan: Past Fund Staff Advice and Impl...    Fiscal Management   \n",
       "3  The authorities consider that geopolitical ten...  Financial Stability   \n",
       "4  The banking sector is in good financial health...  Financial Stability   \n",
       "\n",
       "    mapped_topic_label   ground_truth_label Notes  \n",
       "0        Fiscal Stance        Fiscal Stance   NaN  \n",
       "1        Fiscal Stance        Fiscal Stance   NaN  \n",
       "2        Fiscal Stance        Fiscal Stance   NaN  \n",
       "3  Financial Stability  Financial Stability   NaN  \n",
       "4  Financial Stability  Financial Stability   NaN  "
      ]
     },
     "execution_count": 54,
     "metadata": {},
     "output_type": "execute_result"
    }
   ],
   "source": [
    "dataset_path = \"../../sample_data/detailed_topic_identification_eval_small.csv\"\n",
    "out_bathtask_path = \"../../sample_data/sample_batch.jsonl\"\n",
    "batchtask_result_path = \"../../sample_data/sample_batch_results.jsonl\"\n",
    "df = pd.read_csv(dataset_path)\n",
    "df.head()"
   ]
  },
  {
   "cell_type": "code",
   "execution_count": 22,
   "metadata": {},
   "outputs": [],
   "source": [
    "categorize_system_prompt =\"\"\"\n",
    "You are an experience macroeconomist from IMF. Your job is to assign topic labels to a given paragraph from IMF document',\n",
    "You are given a list of topics with their definition and key indicators as below:\n",
    "----------------\n",
    "----------------\n",
    "**Economic Outlook**:\n",
    "- **Definition**: The assessment of cyclical position and economic outlook involves evaluating the current and projected state of an economy over various time horizons. This includes analyzing near-term and medium-term growth prospects, understanding the business cycle phases (expansion and contraction), and identifying potential economic risks and uncertainties. Key indicators such as GDP growth, inflation, and the output gap are scrutinized to gauge macroeconomic stability. The evaluation also considers the impacts of fiscal and monetary policies on economic trends and forecasts potential scenarios, highlighting recession risks and opportunities for economic expansion.\n",
    "- **Key Indicators**: economic outlook, near-term growth, medium-term growth, economic assessment, GDP growth, business cycle, economic forecast, projected growth, output gap, cyclical analysis, economic risks, economic indicators, macroeconomic stability, recession risk, expansion phase, contraction phase, economic trends\n",
    "\n",
    "**Monetary Policy**:\n",
    "- **Definition**: Monetary policy refers to the actions undertaken by a central bank, such as the Federal Reserve or the European Central Bank, to manage the economy by controlling the money supply, interest rates, and inflation. It aims to achieve price stability, full employment, and economic growth. Key aspects include setting the policy rate, managing inflation expectations and targets, addressing inflationary pressures, and ensuring financial stability. Monetary policy can involve conventional measures, such as adjusting interest rates, and unconventional tools, like quantitative easing and monetary tightening. It also encompasses the monetary transmission mechanism, which describes how policy actions affect the economy, and the interaction with fiscal policy.\n",
    "- **Key Indicators**: inflation expectations, inflation target, inflationary pressures, monetary policy stance, policy rate, price stability, interest rates, central bank, quantitative easing, monetary tightening, unconventional monetary policy, monetary transmission mechanism, currency exchange rates, liquidity management, money supply, aggregate demand\n",
    "\n",
    "**Fiscal Stance**:\n",
    "- **Definition**: The fiscal stance and debt topic encompasses the analysis and evaluation of a government's fiscal policies and their impact on economic sustainability. This includes assessing fiscal sustainability, consolidation efforts, and the overarching fiscal framework that guides policy decisions. Key considerations involve the management of fiscal space, budget allocations, and the balance between fiscal deficits and surpluses. The topic also examines the influence of oil and non-oil revenues on fiscal health, the intricacies of managing government debt, and strategies for ensuring debt sustainability. Understanding the relationship between fiscal policy, expenditure, GDP, and various forms of debt (public, external, and domestic) is crucial for formulating effective economic strategies and maintaining financial stability.\n",
    "- **Key Indicators**: fiscal sustainability, fiscal consolidation, fiscal framework, fiscal policy, fiscal space, budget, fiscal deficit, primary deficit, balanced budget, fiscal stance, oil revenue, non-oil revenue, government debt, expenditure, debt sustainability, debt management, external debt, public debt, domestic debt\n",
    "\n",
    "**Financial Stability**:\n",
    "- **Definition**: Financial stability refers to the resilience of the financial system, including banks, financial markets, and other financial institutions, in withstanding economic shocks and maintaining efficient functioning. It encompasses various aspects such as risk management, credit growth, and the health of the banking sector. Key elements include the implementation of macroprudential policies, management of non-performing loans (NPLs), maintenance of adequate capital and liquidity levels, assessment of risks in the housing market; and robust supervision and stress testing of financial institutions. Effective governance, rigorous internal and external audits, and adherence to reporting standards and safeguards assessments are essential to ensure financial stability.\n",
    "- **Key Indicators**: financial stability, banking sector, credit growth, financial institutions, macroprudential, non-performing loans (NPLs), capital, credit risk, liquidity, supervision, stress tests, bank governance, internal audit, reporting standards, safeguards assessment, external audit, regulatory measures, overvaluation, bubbles, booms, real estate sector risks \n",
    "\n",
    "**External Stance**:\n",
    "- **Definition**: The topic covers the macroeconomic analysis of a country's external economic health and the dynamics of its currency's exchange rate. Key elements include international reserves, current account deficits and surpluses, and the effective exchange rate, which are essential indicators of external balance. The topic also encompasses the analysis of implied fundamentals through models like the EBA-lite, and the impact of capital grants, trade policies, and trade elasticities on the external position. Understanding trade liberalization, integration, and barriers further helps in evaluating the broader context of global trade influences on exchange rates.\n",
    "- **Key Indicators**: international reserves, current account deficit, implied fundamentals, external balance, effective exchange rate, current account surplus, EBA-lite model, external deficit, capital grants, exchange rate, import elasticity, export elasticity, trade liberalization, trade policy, trade integration, bilateral trade, global trade, tariff barriers\n",
    "\n",
    "**Climate Change**:\n",
    "- **Definition**: Climate mitigation, adaptation, and transition encompass strategies and actions aimed at reducing greenhouse gas emissions, enhancing resilience to climate impacts, and shifting towards sustainable and low-carbon energy systems. These efforts include the development and implementation of renewable energy sources, improving energy efficiency, securing energy resources, and financing green initiatives. Key policies such as carbon pricing and green finance play a critical role in driving sustainable development and achieving carbon neutrality. The transition to a low-carbon economy involves not only technological advancements but also comprehensive environmental policies and frameworks to support ecosystem services and build resilience against climate-related risks.\n",
    "- **Key Indicators**: climate mitigation, climate adaptation, climate transition, energy security, climate change, renewable energy, energy efficiency, sustainability, climate finance, carbon pricing, emissions reduction, green finance, environmental policy, sustainable development, carbon neutrality, climate resilience, low-carbon technology, decarbonization, net-zero emissions, ecosystem services\n",
    "\n",
    "**Inclusion**:\n",
    "- **Definition**: Inclusion in the context of macroeconomics refers to the equitable participation and access to resources across various segments of society. This encompasses gender equality, labor force participation, and the provision of social spending aimed at improving financial inclusion, education, housing and health. Key aspects include promoting skilled labor, increasing employment opportunities, improve housing affordability and addressing labor market disparities. Social assistance programs and policies targeting poverty reduction and social protection play a critical role in mitigating inequality. Furthermore, pension reforms and the management of public wages are essential for ensuring sustainable economic growth and social stability. Addressing employment effects and wage growth, including the implementation of minimum wage policies, are vital components of fostering inclusive economic development.\n",
    "- **Key Indicators**: gender, social spending, financial inclusion, education, health, skilled labor, employment, female labor, labor market, social assistance, poverty reduction, social protection, inequality, pension reform, retirement, wage, housing affordability\n",
    "\n",
    "**Technology**:\n",
    "- **Definition**: Digitalization and technology encompass the integration of digital technologies into various sectors, leading to significant transformations in the economy, government, and society. This topic covers the development of digital infrastructure and innovation, the adoption of new technologies, and the formulation of digital strategies. Key aspects include the digital economy, platforms, skills, and government initiatives. Additionally, it addresses the regulation and legal frameworks for emerging technologies like Bitcoin and digital assets, ensuring consumer protection and financial inclusion while managing risks. The role of Artificial Intelligence, blockchain, cybersecurity, and data privacy are also critical in this digital landscape.\n",
    "- **Key Indicators**: digital infrastructure, digital innovation, technology adoption, digital strategy, digital economy, digital technologies, digital platforms, digital skills, digital government, bitcoin regulation, legal framework, consumer protection, financial inclusion, regulatory framework, risks, digital assets, Artificial Intelligence, blockchain, cybersecurity, data privacy, bitcoin, legal tender, Fintech\n",
    "\n",
    "**Governance**:\n",
    "- **Definition**: Governance in the context of macroeconomic policy involves the frameworks and practices that ensure the effective, transparent, and accountable management of public resources. Key elements include combating corruption through robust anti-corruption strategies and enforcement mechanisms, enhancing Anti-Money Laundering and Countering the Financing of Terrorism (AML/CFT) frameworks, and promoting fiscal transparency to ensure that government financial operations are open and clear to the public. Central bank independence and institutional reforms are crucial for maintaining the integrity and stability of financial systems. Effective governance also involves setting and adhering to reporting standards, conducting internal and external audits, and implementing safeguards assessments to detect and prevent misuse of funds. Legislation, compliance, and prosecution are fundamental in enforcing these principles, while continuous efforts to refine and implement recommendations are essential for improving governance structures.\n",
    "- **Key Indicators**: Corruption, AML/CFT, Fiscal transparency, Central bank independence, Institutional reforms, Corruption strategy, Enforcement, Legislation, Compliance, Prosecution, Bank governance, Internal audit, External audit, Safeguards assessment, Reporting standards, Governance, Anti-corruption, Audit, Transparency, Implementing recommendations\n",
    "\n",
    "**Structural Reforms**:\n",
    "- **Definition**: Structural reforms refer to policies and measures aimed at improving the overall productivity and efficiency of an economy. These reforms are distinct from social reforms and focus on enhancing the functioning of product markets, fostering innovation, and increasing economic diversification and competitiveness. Key areas include product market reforms, improving the business environment, public and private investment management, and fostering technological advancement. By implementing regulatory, labor market, trade, and financial sector reforms, these measures aim to create a more dynamic and competitive economy capable of sustaining long-term growth and development.\n",
    "- **Key Indicators**: product market reforms, productivity enhancement, economic diversification, increasing competitiveness, business environment, public investment, investment management, private sector development, innovation, regulatory reforms, entrepreneurship, market efficiency, technological advancement, labor market reforms, trade liberalization, infrastructure development, financial sector reforms, institutional reforms, foreign direct investment, competition policy\n",
    "\n",
    "**Other Topics**:\n",
    "- **Definition**: Any content that do not fit into the *predefined categories above*. Examples include discussions on IMF program performance, data provision, data quality and dissemination, expressions of appreciation for Fund support, including capacity development; and other macroeconomic subjects that are not predefined.\n",
    "- **Key Indicators**: no specific key indicators \n",
    "\n",
    "----------------\n",
    "----------------\n",
    "    \n",
    "You will be given a paragraph from a report published by the International Monetary Fund. \n",
    "Please carefully analyze the paragraph and classify the provided paragraph using ONLY the provided topics. \n",
    "Try your best to assign only one topic to the paragraph. You can use multiple categories only if you are very confident that multiple topics are extensively discussed in the paragraph.\n",
    "Please be aware that there is a **Other Topics** category. If the paragraph does not fit into any of the predefined topics before **Other Topics** category, put it as **Other Topics**. \n",
    "Please provide your reasoning for your classification first, and then provide the topic label and a confidence score from 0-100.\n",
    "\n",
    "Please respond in clean json format as follow:\n",
    "```json\n",
    "{{\"reasoning\": \"<reasoning process>\", \n",
    "\"topic_labels\": [{{\"topic_label\":\"<identified topic label>\",\"confidence_score\":<confidence score>}},...]}}\n",
    "```\n",
    "Response:\n",
    "\n",
    "\"\"\"\n"
   ]
  },
  {
   "cell_type": "markdown",
   "metadata": {},
   "source": [
    "##### Run some examples to make sure the prompt works as expected "
   ]
  },
  {
   "cell_type": "code",
   "execution_count": 23,
   "metadata": {},
   "outputs": [],
   "source": [
    "# Modify OpenAI's API key and API base to use vLLM's API server.\n",
    "client = openai.OpenAI(\n",
    "    # defaults to os.environ.get(\"OPENAI_API_KEY\")\n",
    "    api_key=os.getenv(\"OPENAI_API_KEY\"),\n",
    "    #base_url=openai_api_base,\n",
    ")\n",
    "\n",
    "def get_categories(paragraph):\n",
    "    response = client.chat.completions.create(\n",
    "    model=\"gpt-4o-mini\",\n",
    "    temperature=0,\n",
    "    # This is to enable JSON mode, making sure responses are valid json objects\n",
    "    response_format={ \n",
    "        \"type\": \"json_object\"\n",
    "    },\n",
    "    messages=[\n",
    "        {\n",
    "            \"role\": \"system\",\n",
    "            \"content\": categorize_system_prompt\n",
    "        },\n",
    "        {\n",
    "            \"role\": \"user\",\n",
    "            \"content\": paragraph\n",
    "        }\n",
    "    ],\n",
    "    )\n",
    "\n",
    "    return response.choices[0].message.content"
   ]
  },
  {
   "cell_type": "code",
   "execution_count": 25,
   "metadata": {},
   "outputs": [
    {
     "name": "stdout",
     "output_type": "stream",
     "text": [
      "True Topic: Fiscal Stance\n",
      "RESULT: {\"reasoning\": \"The paragraph discusses the need for additional fiscal support in response to the economic impacts of the COVID-19 pandemic. It emphasizes the allocation of budget resources for social assistance, upskilling programs, and support for SMEs, while also addressing the importance of managing public debt and ensuring fiscal sustainability. The focus on fiscal policies, budget allocations, and the implications of government debt aligns closely with the definition of the Fiscal Stance topic, which encompasses the analysis of government fiscal policies and their impact on economic sustainability. Therefore, this paragraph is best classified under the Fiscal Stance topic.\", \n",
      "\"topic_labels\": [{\"topic_label\":\"Fiscal Stance\",\"confidence_score\":95}]}\n",
      "Paragraph: Additional, targeted fiscal support is warranted in 2022-2023. The 2022 Budget allocated RM23 billion (1.4 percent of GDP) out of the COVID Fund for COVID-related spending, with an increasing share spent on upskilling programs, social assistance support to vulnerable groups, and SME financing. Considering the still-sizable projected economic slack, medium-term pandemic scarring effects, generally favorable debt dynamics, and staff’s assessment that debt is sustainable (Appendix II), staff advice is to provide modest additional fiscal support by about 2 percentage points cumulatively in 2022 and 2023 above the 2022 budget plans, moving the fiscal impulse in 2022 from negative to moderately positive territory, and delaying the start of consolidation by one year to 2023.8 The additional stimulus would close the output gap faster than in the baseline, thus helping limit the pandemic’s scarring effects. Targeted additional spending should center on protecting the vulnerable (notably low-income highly-indebted households), supporting viable SMEs in hard-hit sectors, and minimizing the impact of scarring on inequality, and increasing productive capacity—through public investments in green and climate-resilient projects, improved training and education, strengthened health policies, and digital transformation. However, the higher public debt with pre-COVID-19 fiscal vulnerabilities, warrants a cautious approach towards continued fiscal support, as a protracted pandemic could entail future spending pressures. In that respect, federal government debt remains below the effective debt limit (of 67 percent of GDP) implied by the twice- raised 65 percent of GDP limit on domestic debt under both baseline and staff recommended fiscal paths. Furthermore, staff recommendation involves a larger consolidation (by about 3 percentage points) in the medium term compared to the passive baseline, that would put debt on a firm downward trend and help rebuild fiscal buffers necessary to respond to future shocks.\n",
      "\n",
      "\n",
      "----------------------------\n",
      "\n",
      "\n",
      "True Topic: Fiscal Stance\n",
      "RESULT: {\"reasoning\": \"The paragraph discusses various aspects of fiscal policy, including the need for additional fiscal support, a medium-term expenditure-based consolidation plan, and measures to address rising energy prices. It emphasizes the importance of fiscal sustainability, public finances, and the management of government expenditure. The focus on fiscal support for recovery, public debt stabilization, and the commitment to structural reforms aligns closely with the definition of the 'Fiscal Stance' topic, which encompasses the analysis of government fiscal policies and their impact on economic sustainability. Therefore, the most appropriate topic label for this paragraph is 'Fiscal Stance.'\", \n",
      "\"topic_labels\": [{\"topic_label\":\"Fiscal Stance\",\"confidence_score\":90}]}\n",
      "Paragraph: The authorities agreed that additional fiscal support focused on supply-side measures is warranted in 2022. They also backed the idea of a medium-term expenditure-based consolidation plan, to be implemented only once the recovery is on firm ground. They concurred that the near-term priority for fiscal policy is to support the recovery and minimize scarring by boosting workers skills and investment, and shared the view that the improvement in the fiscal deficit envisaged in the 2022 budget would not constitute a tightening of the fiscal stance but rather an appropriate scaling down of emergency support programs. While the authorities agreed that some of the measures in response to rising energy prices are widely distributed, they preferred a broader and swift approach to provide timely support to all the households significantly impacted by the surge in energy prices. They stressed that these measures would be temporary. The authorities underscored that a priority beyond 2022 is to redress France’s public finances and rebuild fiscal buffers while making space for critical investment to support the green and digital transformation, and to facilitate reallocation of resources. They highlighted that the “France 2030” plan goes in this direction and agreed with staff that ensuring good governance of the program, with strong private-sector involvement, would be key. They aim at stabilizing public debt and get it on a declining path by 2026, as recommended by staff, by boosting potential growth factors and containing government expenditure, prioritizing growth-friendly expenditure. The authorities remain convinced that a reform of the pension system should play a key role. They also concurred with other priority areas for savings outlined by staff but consider that structural spending reforms will need to be implemented after a new government takes office. The authorities reiterated their commitment toward safeguarding public funds.\n",
      "\n",
      "\n",
      "----------------------------\n",
      "\n",
      "\n"
     ]
    }
   ],
   "source": [
    "# Testing on a few examples\n",
    "for _, row in df[:2].iterrows():\n",
    "    description = row['paragraph']\n",
    "    ground_truth = row['ground_truth_label']\n",
    "    result = get_categories(description)\n",
    "    print(f\"True Topic: {ground_truth}\\nRESULT: {result}\\nParagraph: {description}\")\n",
    "    print(\"\\n\\n----------------------------\\n\\n\")"
   ]
  },
  {
   "cell_type": "markdown",
   "metadata": {},
   "source": [
    "#### Create Batch File"
   ]
  },
  {
   "cell_type": "markdown",
   "metadata": {},
   "source": [
    "The batch file, in the jsonl format, should contain one line (json object) per request. Each request is defined as such:\n",
    "```json\n",
    "{\n",
    "    \"custom_id\": <REQUEST_ID>,\n",
    "    \"method\": \"POST\",\n",
    "    \"url\": \"/v1/chat/completions\",\n",
    "    \"body\": {\n",
    "        \"model\": <MODEL>,\n",
    "        \"messages\": <MESSAGES>,\n",
    "        // other parameters\n",
    "    }\n",
    "}\n",
    "```\n"
   ]
  },
  {
   "cell_type": "markdown",
   "metadata": {},
   "source": [
    "- convert everything to a list of dicts "
   ]
  },
  {
   "cell_type": "code",
   "execution_count": 27,
   "metadata": {},
   "outputs": [],
   "source": [
    "tasks = []\n",
    "for index, row in df.iterrows():\n",
    "    description = row['paragraph']\n",
    "    task = {\n",
    "        \"custom_id\": f\"task-{index}\",\n",
    "        \"method\": \"POST\",\n",
    "        \"url\": \"/v1/chat/completions\",\n",
    "        \"body\": {\n",
    "            # This is what you would have in your Chat Completions API call\n",
    "            \"model\": \"gpt-4o-mini\",\n",
    "            \"temperature\": 0,\n",
    "            \"response_format\": { \n",
    "                \"type\": \"json_object\"\n",
    "            },\n",
    "            \"messages\": [\n",
    "                {\n",
    "                    \"role\": \"system\",\n",
    "                    \"content\": categorize_system_prompt\n",
    "                },\n",
    "                {\n",
    "                    \"role\": \"user\",\n",
    "                    \"content\": description\n",
    "                }\n",
    "            ],\n",
    "        }\n",
    "    }\n",
    "    tasks.append(task)"
   ]
  },
  {
   "cell_type": "markdown",
   "metadata": {},
   "source": [
    "- write to an jsonl file"
   ]
  },
  {
   "cell_type": "code",
   "execution_count": 28,
   "metadata": {},
   "outputs": [],
   "source": [
    "with open(out_bathtask_path, 'w') as file:\n",
    "    for obj in tasks:\n",
    "        file.write(json.dumps(obj) + '\\n')"
   ]
  },
  {
   "cell_type": "markdown",
   "metadata": {},
   "source": [
    "- upload file to openai "
   ]
  },
  {
   "cell_type": "code",
   "execution_count": 29,
   "metadata": {},
   "outputs": [
    {
     "name": "stdout",
     "output_type": "stream",
     "text": [
      "FileObject(id='file-Kz3x6yrx7PC644HH1Ea71x5A', bytes=1490479, created_at=1725040384, filename='sample_batch.jsonl', object='file', purpose='batch', status='processed', status_details=None)\n"
     ]
    }
   ],
   "source": [
    "batch_file = client.files.create(\n",
    "  file=open(out_bathtask_path, \"rb\"),\n",
    "  purpose=\"batch\"\n",
    ")\n",
    "print(batch_file)"
   ]
  },
  {
   "cell_type": "markdown",
   "metadata": {},
   "source": [
    "#### Create the batch job"
   ]
  },
  {
   "cell_type": "code",
   "execution_count": 30,
   "metadata": {},
   "outputs": [],
   "source": [
    "batch_job = client.batches.create(\n",
    "  input_file_id=batch_file.id,\n",
    "  endpoint=\"/v1/chat/completions\",\n",
    "  completion_window=\"24h\", #For now, the completion window can only be set to 24h\n",
    "  metadata={\n",
    "      \"description\": \"Test Topic categorization Job\"\n",
    "    }\n",
    ")"
   ]
  },
  {
   "cell_type": "code",
   "execution_count": 34,
   "metadata": {},
   "outputs": [
    {
     "name": "stdout",
     "output_type": "stream",
     "text": [
      "Batch(id='batch_hIErVCEAm0msEi4qt8kHgaDE', completion_window='24h', created_at=1725040503, endpoint='/v1/chat/completions', input_file_id='file-Kz3x6yrx7PC644HH1Ea71x5A', object='batch', status='validating', cancelled_at=None, cancelling_at=None, completed_at=None, error_file_id=None, errors=None, expired_at=None, expires_at=1725126903, failed_at=None, finalizing_at=None, in_progress_at=None, metadata={'description': 'Test Topic categorization Job'}, output_file_id=None, request_counts=BatchRequestCounts(completed=0, failed=0, total=0))\n"
     ]
    }
   ],
   "source": [
    "print(batch_job)"
   ]
  },
  {
   "cell_type": "markdown",
   "metadata": {},
   "source": [
    "### Checking the Status of a Batch\n",
    "- example https://platform.openai.com/docs/guides/batch/4-checking-the-status-of-a-batch"
   ]
  },
  {
   "cell_type": "code",
   "execution_count": 45,
   "metadata": {},
   "outputs": [],
   "source": [
    "import time\n",
    "batch_client = OpenAI()"
   ]
  },
  {
   "cell_type": "code",
   "execution_count": 46,
   "metadata": {},
   "outputs": [
    {
     "name": "stdout",
     "output_type": "stream",
     "text": [
      "Processing Status: completed; Progress: BatchRequestCounts(completed=100, failed=0, total=100)"
     ]
    }
   ],
   "source": [
    "batch_id = \"batch_hIErVCEAm0msEi4qt8kHgaDE\"\n",
    "\n",
    "for i in range(10):\n",
    "    status = batch_client.batches.retrieve(batch_id)\n",
    "    print(f'\\rProcessing Status: {status.status}; Progress: {status.request_counts}', end='', flush=True)\n",
    "    if status.status in ['completed','expired','cancelled','failed']:\n",
    "        break\n",
    "    time.sleep(10)  # Simulate work being done"
   ]
  },
  {
   "cell_type": "code",
   "execution_count": 49,
   "metadata": {},
   "outputs": [
    {
     "name": "stdout",
     "output_type": "stream",
     "text": [
      "file-5T8WnQMBYRTe1ZCBo6IRMJa6\n"
     ]
    }
   ],
   "source": [
    "out_file_id = status.output_file_id\n",
    "print(out_file_id)"
   ]
  },
  {
   "cell_type": "markdown",
   "metadata": {},
   "source": [
    "#### Retrieving Results"
   ]
  },
  {
   "cell_type": "code",
   "execution_count": 55,
   "metadata": {},
   "outputs": [],
   "source": [
    "## need output file id from batch status\n",
    "file_response = client.files.content(out_file_id).content\n",
    "with open(batchtask_result_path, 'wb') as file:\n",
    "    file.write(file_response)"
   ]
  },
  {
   "cell_type": "code",
   "execution_count": 56,
   "metadata": {},
   "outputs": [],
   "source": [
    "# Loading data from saved file\n",
    "results = []\n",
    "with open(batchtask_result_path, 'r') as file:\n",
    "    for line in file:\n",
    "        # Parsing the JSON string into a dict and appending to the list of results\n",
    "        json_object = json.loads(line.strip())\n",
    "        results.append(json_object)"
   ]
  },
  {
   "cell_type": "code",
   "execution_count": 62,
   "metadata": {},
   "outputs": [
    {
     "name": "stdout",
     "output_type": "stream",
     "text": [
      "RESULT: {\"reasoning\": \"The paragraph discusses the need for additional fiscal support in response to the economic impacts of the COVID-19 pandemic. It emphasizes the allocation of budget resources for social assistance, upskilling programs, and support for SMEs, while also addressing the importance of managing public debt and fiscal sustainability. The focus on fiscal policies, budget allocations, and the implications of government debt clearly aligns with the definition of the Fiscal Stance topic, which encompasses the analysis of government fiscal policies and their impact on economic sustainability. Therefore, this paragraph is best classified under the Fiscal Stance topic.\", \n",
      "\"topic_labels\": [{\"topic_label\":\"Fiscal Stance\",\"confidence_score\":95}]}\n",
      "\n",
      "----------------------------\n",
      "\n",
      "RESULT: {\"reasoning\": \"The paragraph discusses various aspects of fiscal policy, including the need for additional fiscal support, a medium-term expenditure-based consolidation plan, and measures to address rising energy prices. It emphasizes the importance of fiscal sustainability, public finances, and the management of government expenditure. The focus on fiscal support, consolidation, and the commitment to safeguarding public funds aligns closely with the definition of the 'Fiscal Stance' topic, which encompasses the analysis of government fiscal policies and their impact on economic sustainability. Therefore, this paragraph is best classified under 'Fiscal Stance.'\", \n",
      "\"topic_labels\": [{\"topic_label\":\"Fiscal Stance\",\"confidence_score\":90}]}\n",
      "\n",
      "----------------------------\n",
      "\n",
      "RESULT: {\"reasoning\": \"The paragraph discusses various macroeconomic policies and their implementation in Jordan, focusing on fiscal consolidation, tax framework improvements, utility fiscal losses, monetary policy, structural reforms, and social safety nets. The emphasis on fiscal policies, tax administration, and public financial management indicates a strong connection to the fiscal stance topic. The mention of revenue shortfalls, tax policy measures, and the management of fiscal losses aligns closely with the analysis of a government's fiscal policies and their impact on economic sustainability. Therefore, the most appropriate topic label for this paragraph is 'Fiscal Stance.'\", \n",
      "\"topic_labels\": [{\"topic_label\":\"Fiscal Stance\",\"confidence_score\":90}]}\n",
      "\n",
      "----------------------------\n",
      "\n",
      "RESULT: {\"reasoning\": \"The paragraph discusses various aspects of Italy's financial stability, including risks from geopolitical tensions and high inflation, improvements in the banking system, the management of non-performing loans (NPLs), and the supervision of banks. It emphasizes the resilience of the financial system and the measures taken to ensure its stability, which aligns closely with the definition of Financial Stability. Therefore, the most appropriate topic label for this paragraph is Financial Stability.\", \n",
      "\"topic_labels\": [{\"topic_label\":\"Financial Stability\",\"confidence_score\":90}]}\n",
      "\n",
      "----------------------------\n",
      "\n",
      "RESULT: {\"reasoning\": \"The paragraph discusses the health of the banking sector, focusing on financial stability, risks related to non-performing loans (NPLs), and the resilience of banks to economic shocks. It highlights the importance of capital buffers, stress tests, and supervisory measures, which are all key aspects of financial stability. Therefore, the most appropriate topic label for this paragraph is 'Financial Stability.'\", \n",
      "\"topic_labels\": [{\"topic_label\":\"Financial Stability\",\"confidence_score\":90}]}\n",
      "\n",
      "----------------------------\n",
      "\n"
     ]
    }
   ],
   "source": [
    "# Reading only the first results\n",
    "for res in results[:5]:\n",
    "    task_id = res['custom_id']\n",
    "    # Getting index from task id\n",
    "    index = task_id.split('-')[-1]\n",
    "    result = res['response']['body']['choices'][0]['message']['content']\n",
    "    print(f\"RESULT: {result}\")\n",
    "    print(\"\\n----------------------------\\n\")"
   ]
  },
  {
   "cell_type": "code",
   "execution_count": null,
   "metadata": {},
   "outputs": [],
   "source": []
  },
  {
   "cell_type": "code",
   "execution_count": null,
   "metadata": {},
   "outputs": [],
   "source": []
  }
 ],
 "metadata": {
  "kernelspec": {
   "display_name": "gpt",
   "language": "python",
   "name": "python3"
  },
  "language_info": {
   "codemirror_mode": {
    "name": "ipython",
    "version": 3
   },
   "file_extension": ".py",
   "mimetype": "text/x-python",
   "name": "python",
   "nbconvert_exporter": "python",
   "pygments_lexer": "ipython3",
   "version": "3.9.19"
  }
 },
 "nbformat": 4,
 "nbformat_minor": 2
}
