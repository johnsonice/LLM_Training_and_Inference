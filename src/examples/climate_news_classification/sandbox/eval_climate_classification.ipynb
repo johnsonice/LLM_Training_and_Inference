{
 "cells": [
  {
   "cell_type": "code",
   "execution_count": 2,
   "metadata": {},
   "outputs": [],
   "source": [
    "import os,sys\n",
    "sys.path.insert(0,'../../libs')\n",
    "import openai\n",
    "from llm_utils import BSAgent\n",
    "from data_utils import train_val_test_split,load_split_climate_data\n",
    "from utils import download_hf_model\n",
    "import pandas as pd\n",
    "import re,json,copy\n",
    "from tqdm import tqdm\n",
    "from prompts import short_cot_pt,short_cot_pt_2label,long_cot_pt,long_cot_pt_2label,long_fewshotcot_pt_2label\n",
    "import pprint"
   ]
  },
  {
   "cell_type": "code",
   "execution_count": 3,
   "metadata": {},
   "outputs": [],
   "source": [
    "from pydantic import BaseModel\n",
    "from typing import Literal"
   ]
  },
  {
   "cell_type": "code",
   "execution_count": 4,
   "metadata": {},
   "outputs": [],
   "source": [
    "from dotenv import load_dotenv\n",
    "env_path = '../../../.env'\n",
    "load_dotenv(dotenv_path=env_path)\n",
    "api_key = os.getenv(\"OPENAI_API_KEY\")\n",
    "if not api_key:\n",
    "    raise ValueError(\"OPENAI_API_KEY not found in environment variables. Please check your .env file.\")\n"
   ]
  },
  {
   "cell_type": "code",
   "execution_count": 5,
   "metadata": {},
   "outputs": [],
   "source": [
    "data_folder = '/ephemeral/home/xiong/data/Fund/Climate'\n",
    "# data_path = os.path.join(data_folder,'Climate training paragraphs.csv')\n",
    "# ds = load_split_climate_data(data_path,merge_neutral=True,verbose=True)\n",
    "# ds['test'].to_csv(data_folder+'/test.csv')\n",
    "# ds['validation'].to_csv(data_folder+'/validation.csv')\n",
    "# ds['train'].to_csv(data_folder+'/train.csv')\n",
    "\n",
    "test_data = pd.read_csv(data_folder+'/test.csv')\n",
    "val_data = pd.read_csv(data_folder+'/validation.csv')\n",
    "train_data = pd.read_csv(data_folder+'/train.csv')"
   ]
  },
  {
   "cell_type": "code",
   "execution_count": 6,
   "metadata": {},
   "outputs": [],
   "source": [
    "class ClimateClassification(BaseModel):\n",
    "    justification: str\n",
    "    classification: Literal[\"favorable\", \"unfavorable\", \"neutral\"]\n",
    "\n",
    "class ClimateClassification_2label(BaseModel):\n",
    "    justification: str\n",
    "    classification: Literal[\"favorable\", \"unfavorable\"]\n"
   ]
  },
  {
   "cell_type": "code",
   "execution_count": 8,
   "metadata": {},
   "outputs": [
    {
     "name": "stdout",
     "output_type": "stream",
     "text": [
      "Model Qwen/Qwen2.5-7B-Instruct already exists at /ephemeral/home/xiong/data/hf_cache/Qwen/Qwen2.5-7B-Instruct, skipping download\n",
      "Model Qwen/Qwen2.5-32B-Instruct already exists at /ephemeral/home/xiong/data/hf_cache/Qwen/Qwen2.5-32B-Instruct, skipping download\n",
      "Model meta-llama/Llama-3.1-8B-Instruct already exists at /ephemeral/home/xiong/data/hf_cache/meta-llama/Llama-3.1-8B-Instruct, skipping download\n",
      "Model meta-llama/Llama-3.1-70B-Instruct already exists at /ephemeral/home/xiong/data/hf_cache/meta-llama/Llama-3.1-70B-Instruct, skipping download\n",
      "Model deepseek-ai/DeepSeek-R1-Distill-Qwen-32B already exists at /ephemeral/home/xiong/data/hf_cache/deepseek-ai/DeepSeek-R1-Distill-Qwen-32B, skipping download\n",
      "Downloading model deepseek-ai/DeepSeek-R1-Distill-Llama-70B...\n"
     ]
    },
    {
     "name": "stderr",
     "output_type": "stream",
     "text": [
      "Fetching 26 files: 100%|██████████| 26/26 [02:49<00:00,  6.51s/it]\n"
     ]
    },
    {
     "name": "stdout",
     "output_type": "stream",
     "text": [
      "Model Qwen/QwQ-32B already exists at /ephemeral/home/xiong/data/hf_cache/Qwen/QwQ-32B, skipping download\n",
      "Downloading model deepseek-ai/DeepSeek-R1-Distill-Llama-8B...\n"
     ]
    },
    {
     "name": "stderr",
     "output_type": "stream",
     "text": [
      "Fetching 11 files: 100%|██████████| 11/11 [00:45<00:00,  4.15s/it]\n"
     ]
    }
   ],
   "source": [
    "## download models\n",
    "model_name_list = ['Qwen/Qwen2.5-7B-Instruct','Qwen/Qwen2.5-32B-Instruct',\n",
    "                   'meta-llama/Llama-3.1-8B-Instruct','meta-llama/Llama-3.1-70B-Instruct',\n",
    "                   'deepseek-ai/DeepSeek-R1-Distill-Qwen-32B','deepseek-ai/DeepSeek-R1-Distill-Llama-70B',\n",
    "                   'Qwen/QwQ-32B','deepseek-ai/DeepSeek-R1-Distill-Llama-8B']\n",
    "for model_name in model_name_list:\n",
    "    # Create the target directory path\n",
    "    target_dir = '/ephemeral/home/xiong/data/hf_cache/' + model_name\n",
    "    # Check if model already exists before downloading\n",
    "    if os.path.exists(target_dir) and os.listdir(target_dir):\n",
    "        print(f\"Model {model_name} already exists at {target_dir}, skipping download\")\n",
    "    else:\n",
    "        print(f\"Downloading model {model_name}...\")\n",
    "        download_hf_model(model_name, target_dir, hf_token=os.getenv('huggingface_token'))"
   ]
  },
  {
   "cell_type": "code",
   "execution_count": 7,
   "metadata": {},
   "outputs": [
    {
     "name": "stdout",
     "output_type": "stream",
     "text": [
      "The capital of France is Paris.\n"
     ]
    },
    {
     "data": {
      "text/plain": [
       "'The capital of France is Paris.'"
      ]
     },
     "execution_count": 7,
     "metadata": {},
     "output_type": "execute_result"
    }
   ],
   "source": [
    "# use openap modesl \n",
    "# agent = BSAgent(model='gpt-4o-mini')\n",
    "# Try other opens rousce modesl \n",
    "# python -m vllm.entrypoints.openai.api_server --model /home/xiong/data/hf_cache/llama-3.1-8B-Instruct --dtype auto --servered_model_name llama-3.1-8b-Instruct\n",
    "agent = BSAgent(base_url='http://localhost:8100/v1',api_key='abc')\n",
    "# agent.model = agent.client.models.list().data[0].id\n",
    "# print(agent.model) \n",
    "agent.connection_test()"
   ]
  },
  {
   "cell_type": "code",
   "execution_count": 8,
   "metadata": {},
   "outputs": [],
   "source": [
    "def get_climate_classifications(agent, dataset, prompt_template):\n",
    "    results = []\n",
    "    for i in tqdm(range(len(dataset))):\n",
    "        structured_prompt = copy.deepcopy(prompt_template)\n",
    "        structured_prompt['user'] = structured_prompt['user'].format(PARAGRAPH=dataset.iloc[i].paragraph)\n",
    "        try:\n",
    "            response = agent.get_response_content(prompt_template=structured_prompt, response_format=ClimateClassification)\n",
    "            results.append({\n",
    "                'paragraph': dataset.iloc[i].paragraph,\n",
    "                'true_label': dataset.iloc[i].label,\n",
    "                'predicted_label': response.classification,\n",
    "                'justification': response.justification\n",
    "            })\n",
    "        except Exception as e:\n",
    "            print(f\"Error processing row {i}: {str(e)}\")\n",
    "            results.append({\n",
    "                'paragraph': dataset.iloc[i].paragraph,\n",
    "                'true_label': dataset.iloc[i].label,\n",
    "                'predicted_label': None,\n",
    "                'justification': f\"Error: {str(e)}\"\n",
    "            })\n",
    "    return pd.DataFrame(results)"
   ]
  },
  {
   "cell_type": "code",
   "execution_count": 17,
   "metadata": {},
   "outputs": [],
   "source": [
    "long_fewshotcot_pt_2label = {\n",
    "    'system':\n",
    "        \"\"\"You are an economist analyzing newspaper paragraphs about climate issues. For each paragraph, classify it as one of the following:\n",
    "            1. **favorable**: supports or promotes actions, policies, or economic measures that mitigate climate change or transition to sustainable practices.\n",
    "            2. **unfavorable**: undermines or criticizes climate-friendly policies, denies climate change, or argues against sustainability measures.  \n",
    "            \n",
    "        For each paragraph, provide a brief justification for your classification.\n",
    "        \n",
    "        **Here are few examples:**\n",
    "        ----\n",
    "        **Statement:**\n",
    "        But it will be scrutinised in minute detail by envoys from poorer countries who say they cannot sign up to a deal in Paris if it lacks the funding they need to shift to greener energy systems and deal with the floods and heatwaves that scientists say are likely to increase as the climate changes.\n",
    "        **Return:**\n",
    "        ```json\n",
    "        {\n",
    "        \"justification\": \"While the statement acknowledges the importance of climate action, it focuses on potential obstacles, by highlighting that poorer countries “cannot sign up” without this financial support.\",\n",
    "        \"classification\": \"unfavorable\",\n",
    "        }```\n",
    "        \n",
    "        **Statement:**\n",
    "        Matthew Gray at Carbon Tracker, a think-tank, said the price of carbon credits was being supported by the gradual reopening of economies and expectations that industrial activity, and emissions, will rebound in the coming months. '[Carbon] has been the number one performer in the European energy complex for some time now and is being bolstered by hopes of trade relief and an easing of lockdown restrictions,' Mr Gray said.\n",
    "        **Return:**\n",
    "        ```json\n",
    "        {\n",
    "        \"justification\": \"It highlights sustained market support for carbon pricing, which can incentivize lower emissions.\",\n",
    "        \"classification\": \"favorable\",\n",
    "        }```\n",
    "        ----\n",
    "        \n",
    "        Please respond in clean json format as follow and your output should include only this dictionary, with no additional commentary.\n",
    "        ```json\n",
    "        {\n",
    "        \"justification\": \"<brief reason>\"\n",
    "        \"classification\": \"<favorable | unfavorable>\"\n",
    "        }```\n",
    "        \"\"\",\n",
    "    'user':\n",
    "        \"\"\" Please Read carefully andclassify the following paragraph.\n",
    "        Here is the paragraph: \n",
    "        ----\n",
    "        ----\n",
    "        {PARAGRAPH} \n",
    "        ----\n",
    "        ----\n",
    "        \n",
    "        **Additional Tips:**\n",
    "        1. Look for keywords: Words such as “subsidies,” “carbon taxes,” “renewable energy,” “sustainability,” etc., can indicate climate-favorable sentiments if they are portrayed in a positive light. \n",
    "        Conversely, mentions of “regulatory burdens,” “economic drawbacks,”, \"economic cost\" or “inefficiency” tied to climate policies may indicate a climate-unfavorable stance.\n",
    "        2. Any statement complains about current situation, delay of climate policy action, or stating the current situation is bad. We put them as negative. \n",
    "        3. Focus on identifying the underlying viewpoint regarding climate-related actions or policies, especially from an economic standpoint.\n",
    "        4. If you think the paragraph is neutral, please put it as favorable.\n",
    "        \n",
    "        Please respond in clean json format, it should include only this dictionary, with no additional commentary.\n",
    "        \"\"\"\n",
    "    }"
   ]
  },
  {
   "cell_type": "code",
   "execution_count": 19,
   "metadata": {},
   "outputs": [],
   "source": [
    "long_fewshotcot_pt_2label = {\n",
    "    'system':\n",
    "        \"\"\"You are an economist analyzing newspaper paragraphs about climate issues. For each paragraph, classify it as one of the following:\n",
    "            1. **favorable**: supports or promotes actions, policies, or economic measures that mitigate climate change or transition to sustainable practices.\n",
    "            2. **unfavorable**: undermines or criticizes climate-friendly policies, denies climate change, or argues against sustainability measures.  \n",
    "            \n",
    "        For each paragraph, provide a brief justification for your classification.\n",
    "        \n",
    "        **Here are few examples:**\n",
    "        ----\n",
    "        **Statement:**\n",
    "        But it will be scrutinised in minute detail by envoys from poorer countries who say they cannot sign up to a deal in Paris if it lacks the funding they need to shift to greener energy systems and deal with the floods and heatwaves that scientists say are likely to increase as the climate changes.\n",
    "        **Return:**\n",
    "        ```json\n",
    "        {\n",
    "        \"justification\": \"While the statement acknowledges the importance of climate action, it focuses on potential obstacles, by highlighting that poorer countries “cannot sign up” without this financial support.\",\n",
    "        \"classification\": \"unfavorable\"\n",
    "        }```\n",
    "        \n",
    "        **Statement:**\n",
    "        Matthew Gray at Carbon Tracker, a think-tank, said the price of carbon credits was being supported by the gradual reopening of economies and expectations that industrial activity, and emissions, will rebound in the coming months. '[Carbon] has been the number one performer in the European energy complex for some time now and is being bolstered by hopes of trade relief and an easing of lockdown restrictions,' Mr Gray said.\n",
    "        **Return:**\n",
    "        ```json\n",
    "        {\n",
    "        \"justification\": \"It highlights sustained market support for carbon pricing, which can incentivize lower emissions.\",\n",
    "        \"classification\": \"favorable\"\n",
    "        }```\n",
    "        ----\n",
    "        \n",
    "        **Return the response in valid JSON** with the following structure , with no additional commentary:**\n",
    "        ```json\n",
    "        {\n",
    "        \"justification\": \"<brief reason>\"\n",
    "        \"classification\": \"<favorable | unfavorable>\"\n",
    "        }```\n",
    "        \"\"\",\n",
    "    'user':\n",
    "        \"\"\" Please Read carefully andclassify the following paragraph.\n",
    "        Here is the paragraph: \n",
    "        ----\n",
    "        ----\n",
    "        {PARAGRAPH} \n",
    "        ----\n",
    "        ----\n",
    "        \n",
    "        **Additional Tips:**\n",
    "        1. Look for keywords: Words such as “subsidies,” “carbon taxes,” “renewable energy,” “sustainability,” etc., can indicate climate-favorable sentiments if they are portrayed in a positive light. \n",
    "        Conversely, mentions of “regulatory burdens,” “economic drawbacks,”, \"economic cost\" or “inefficiency” tied to climate policies may indicate a climate-unfavorable stance.\n",
    "        2. Any statement complains about current situation, delay of climate policy action, or stating the current situation is bad. We put them as negative. \n",
    "        3. Focus on identifying the underlying viewpoint regarding climate-related actions or policies, especially from an economic standpoint.\n",
    "        4. If you think the paragraph is neutral, please put it as favorable.\n",
    "        \"\"\"\n",
    "    }"
   ]
  },
  {
   "cell_type": "code",
   "execution_count": 21,
   "metadata": {},
   "outputs": [
    {
     "name": "stderr",
     "output_type": "stream",
     "text": [
      "100%|██████████| 108/108 [01:03<00:00,  1.70it/s]"
     ]
    },
    {
     "name": "stdout",
     "output_type": "stream",
     "text": [
      "\n",
      "Validation Results:\n",
      "Total samples: 108\n",
      "Successfully processed: 108\n",
      "Validation Accuracy: 80.56%\n"
     ]
    },
    {
     "name": "stderr",
     "output_type": "stream",
     "text": [
      "\n"
     ]
    }
   ],
   "source": [
    "# Get predictions for validation and test sets\n",
    "val_results = get_climate_classifications(agent, val_data, long_fewshotcot_pt_2label)\n",
    "val_results.to_csv(data_folder+'/val_results_v2.csv')\n",
    "\n",
    "print(\"\\nValidation Results:\")\n",
    "print(f\"Total samples: {len(val_results)}\")\n",
    "print(f\"Successfully processed: {len(val_results[val_results.predicted_label.notna()])}\")\n",
    "val_accuracy = (val_results['true_label'] == val_results['predicted_label']).mean()\n",
    "print(f\"Validation Accuracy: {val_accuracy:.2%}\")\n"
   ]
  },
  {
   "cell_type": "markdown",
   "metadata": {},
   "source": [
    "#### Try run with asyc clent"
   ]
  },
  {
   "cell_type": "code",
   "execution_count": 20,
   "metadata": {},
   "outputs": [],
   "source": [
    "# Run the test\n",
    "import nest_asyncio\n",
    "import asyncio\n",
    "nest_asyncio.apply()\n",
    "from llm_utils_async import AsyncBSAgent\n"
   ]
  },
  {
   "cell_type": "code",
   "execution_count": null,
   "metadata": {},
   "outputs": [],
   "source": [
    "agent = AsyncBSAgent(model='llama-3.1-8b-Instruct',base_url='http://localhost:8800/v1',api_key='abc')\n",
    "print(agent.model) "
   ]
  },
  {
   "cell_type": "code",
   "execution_count": 25,
   "metadata": {},
   "outputs": [],
   "source": [
    "async def get_climate_classifications(agent, dataset, prompt_template):\n",
    "    async def process_row(i):\n",
    "        structured_prompt = copy.deepcopy(prompt_template)\n",
    "        structured_prompt['user'] = structured_prompt['user'].format(PARAGRAPH=dataset.iloc[i].paragraph)\n",
    "        try:\n",
    "            response = await agent.get_response_content(prompt_template=structured_prompt, response_format=ClimateClassification)\n",
    "            return {\n",
    "                'paragraph': dataset.iloc[i].paragraph,\n",
    "                'true_label': dataset.iloc[i].label,\n",
    "                'predicted_label': response.classification,\n",
    "                'justification': response.justification\n",
    "            }\n",
    "        except Exception as e:\n",
    "            print(f\"Error processing row {i}: {str(e)}\")\n",
    "            return {\n",
    "                'paragraph': dataset.iloc[i].paragraph,\n",
    "                'true_label': dataset.iloc[i].label,\n",
    "                'predicted_label': None,\n",
    "                'justification': f\"Error: {str(e)}\"\n",
    "            }\n",
    "\n",
    "    tasks = [process_row(i) for i in range(len(dataset))]\n",
    "    results = await asyncio.gather(*tasks)\n",
    "    return pd.DataFrame(results)"
   ]
  },
  {
   "cell_type": "code",
   "execution_count": null,
   "metadata": {},
   "outputs": [],
   "source": [
    "val_results = asyncio.run(get_climate_classifications(agent, train_data, long_fewshotcot_pt_2label))\n",
    "print(\"\\nValidation Results:\")\n",
    "print(f\"Total samples: {len(val_results)}\")\n",
    "print(f\"Successfully processed: {len(val_results[val_results.predicted_label.notna()])}\")\n",
    "val_accuracy = (val_results['true_label'] == val_results['predicted_label']).mean()\n",
    "print(f\"Validation Accuracy: {val_accuracy:.2%}\")"
   ]
  },
  {
   "cell_type": "code",
   "execution_count": null,
   "metadata": {},
   "outputs": [],
   "source": []
  }
 ],
 "metadata": {
  "kernelspec": {
   "display_name": "llm",
   "language": "python",
   "name": "python3"
  },
  "language_info": {
   "codemirror_mode": {
    "name": "ipython",
    "version": 3
   },
   "file_extension": ".py",
   "mimetype": "text/x-python",
   "name": "python",
   "nbconvert_exporter": "python",
   "pygments_lexer": "ipython3",
   "version": "3.11.11"
  }
 },
 "nbformat": 4,
 "nbformat_minor": 2
}
