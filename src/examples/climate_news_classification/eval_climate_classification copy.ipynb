{
 "cells": [
  {
   "cell_type": "code",
   "execution_count": 1,
   "metadata": {},
   "outputs": [
    {
     "name": "stderr",
     "output_type": "stream",
     "text": [
      "/ephemeral/home/xiong/miniconda3/envs/llm/lib/python3.11/site-packages/tqdm/auto.py:21: TqdmWarning: IProgress not found. Please update jupyter and ipywidgets. See https://ipywidgets.readthedocs.io/en/stable/user_install.html\n",
      "  from .autonotebook import tqdm as notebook_tqdm\n"
     ]
    }
   ],
   "source": [
    "import os,sys,time\n",
    "sys.path.insert(0,'../../libs')\n",
    "import openai\n",
    "from llm_utils import BSAgent\n",
    "from data_utils import train_val_test_split,load_split_climate_data\n",
    "from utils import download_hf_model\n",
    "import pandas as pd\n",
    "import re,json,copy\n",
    "from tqdm import tqdm\n",
    "from prompts import short_cot_pt,short_cot_pt_2label,long_cot_pt,long_cot_pt_2label,long_fewshotcot_pt_2label\n",
    "import pprint\n",
    "from pydantic import BaseModel\n",
    "from typing import Literal"
   ]
  },
  {
   "cell_type": "code",
   "execution_count": 2,
   "metadata": {},
   "outputs": [],
   "source": [
    "# set up async process\n",
    "import nest_asyncio\n",
    "import asyncio\n",
    "nest_asyncio.apply()\n",
    "from llm_utils_async import AsyncBSAgent"
   ]
  },
  {
   "cell_type": "code",
   "execution_count": 29,
   "metadata": {},
   "outputs": [],
   "source": [
    "from dotenv import load_dotenv\n",
    "env_path = '../../../.env'\n",
    "load_dotenv(dotenv_path=env_path)\n",
    "api_key = os.getenv(\"OPENAI_API_KEY\")\n",
    "if not api_key:\n",
    "    raise ValueError(\"OPENAI_API_KEY not found in environment variables. Please check your .env file.\")\n"
   ]
  },
  {
   "cell_type": "markdown",
   "metadata": {},
   "source": [
    "#### Download all models for evaluation"
   ]
  },
  {
   "cell_type": "code",
   "execution_count": 4,
   "metadata": {},
   "outputs": [
    {
     "name": "stdout",
     "output_type": "stream",
     "text": [
      "Model Qwen/Qwen2.5-7B-Instruct already exists at /ephemeral/home/xiong/data/hf_cache/Qwen/Qwen2.5-7B-Instruct, skipping download\n",
      "Model Qwen/Qwen2.5-32B-Instruct already exists at /ephemeral/home/xiong/data/hf_cache/Qwen/Qwen2.5-32B-Instruct, skipping download\n",
      "Model meta-llama/Llama-3.1-8B-Instruct already exists at /ephemeral/home/xiong/data/hf_cache/meta-llama/Llama-3.1-8B-Instruct, skipping download\n",
      "Model meta-llama/Llama-3.1-70B-Instruct already exists at /ephemeral/home/xiong/data/hf_cache/meta-llama/Llama-3.1-70B-Instruct, skipping download\n",
      "Model deepseek-ai/DeepSeek-R1-Distill-Qwen-32B already exists at /ephemeral/home/xiong/data/hf_cache/deepseek-ai/DeepSeek-R1-Distill-Qwen-32B, skipping download\n",
      "Model deepseek-ai/DeepSeek-R1-Distill-Llama-70B already exists at /ephemeral/home/xiong/data/hf_cache/deepseek-ai/DeepSeek-R1-Distill-Llama-70B, skipping download\n",
      "Model Qwen/QwQ-32B already exists at /ephemeral/home/xiong/data/hf_cache/Qwen/QwQ-32B, skipping download\n",
      "Model deepseek-ai/DeepSeek-R1-Distill-Llama-8B already exists at /ephemeral/home/xiong/data/hf_cache/deepseek-ai/DeepSeek-R1-Distill-Llama-8B, skipping download\n"
     ]
    }
   ],
   "source": [
    "## download models\n",
    "model_name_list = ['Qwen/Qwen2.5-7B-Instruct','Qwen/Qwen2.5-32B-Instruct',\n",
    "                   'meta-llama/Llama-3.1-8B-Instruct','meta-llama/Llama-3.1-70B-Instruct',\n",
    "                   'deepseek-ai/DeepSeek-R1-Distill-Qwen-32B','deepseek-ai/DeepSeek-R1-Distill-Llama-70B',\n",
    "                   'Qwen/QwQ-32B','deepseek-ai/DeepSeek-R1-Distill-Llama-8B']\n",
    "for model_name in model_name_list:\n",
    "    # Create the target directory path\n",
    "    target_dir = '/ephemeral/home/xiong/data/hf_cache/' + model_name\n",
    "    # Check if model already exists before downloading\n",
    "    if os.path.exists(target_dir) and os.listdir(target_dir):\n",
    "        print(f\"Model {model_name} already exists at {target_dir}, skipping download\")\n",
    "    else:\n",
    "        print(f\"Downloading model {model_name}...\")\n",
    "        download_hf_model(model_name, target_dir, hf_token=os.getenv('huggingface_token'))\n"
   ]
  },
  {
   "cell_type": "markdown",
   "metadata": {},
   "source": [
    "#### Define output data model "
   ]
  },
  {
   "cell_type": "code",
   "execution_count": 5,
   "metadata": {},
   "outputs": [],
   "source": [
    "class ClimateClassification(BaseModel):\n",
    "    justification: str\n",
    "    classification: Literal[\"favorable\", \"unfavorable\", \"neutral\"]\n",
    "\n",
    "class ClimateClassification_2label(BaseModel):\n",
    "    justification: str\n",
    "    classification: Literal[\"favorable\", \"unfavorable\"]"
   ]
  },
  {
   "cell_type": "markdown",
   "metadata": {},
   "source": [
    "#### Define classification function ; sync and async"
   ]
  },
  {
   "cell_type": "code",
   "execution_count": 45,
   "metadata": {},
   "outputs": [],
   "source": [
    "def get_climate_classifications(agent, dataset, prompt_template,wait_time=0,formated_output=True):\n",
    "    results = []\n",
    "    for i in tqdm(range(len(dataset))):\n",
    "        structured_prompt = copy.deepcopy(prompt_template)\n",
    "        structured_prompt['user'] = structured_prompt['user'].format(PARAGRAPH=dataset.iloc[i].paragraph)\n",
    "        try:\n",
    "            if formated_output:\n",
    "                response = agent.get_response_content(prompt_template=structured_prompt, \n",
    "                                                    response_format=ClimateClassification_2label,\n",
    "                                                    ) #max_tokens=4000\n",
    "                results.append({\n",
    "                    'paragraph': dataset.iloc[i].paragraph,\n",
    "                    'true_label': dataset.iloc[i].label,\n",
    "                    'predicted_label': response.classification,\n",
    "                    'justification': response.justification\n",
    "                })\n",
    "            else:\n",
    "                response = agent.get_response_content(prompt_template=structured_prompt)\n",
    "                response = agent.parse_load_json_str(response)\n",
    "                results.append({\n",
    "                    'paragraph': dataset.iloc[i].paragraph,\n",
    "                    'true_label': dataset.iloc[i].label,\n",
    "                    'predicted_label': response.get('classification'),\n",
    "                    'justification': response.get('justification')\n",
    "                })                     \n",
    "\n",
    "        except Exception as e:\n",
    "            print(f\"Error processing row {i}: {str(e)}\")\n",
    "            results.append({\n",
    "                'paragraph': dataset.iloc[i].paragraph,\n",
    "                'true_label': dataset.iloc[i].label,\n",
    "                'predicted_label': None,\n",
    "                'justification': f\"Error: {str(e)}\"\n",
    "            })\n",
    "    # Add a 2-second wait between API calls to avoid rate limiting\n",
    "        time.sleep(wait_time)\n",
    "    return pd.DataFrame(results)"
   ]
  },
  {
   "cell_type": "code",
   "execution_count": 7,
   "metadata": {},
   "outputs": [],
   "source": [
    "async def async_get_climate_classifications(agent, dataset, prompt_template):\n",
    "    async def process_row(i):\n",
    "        structured_prompt = copy.deepcopy(prompt_template)\n",
    "        structured_prompt['user'] = structured_prompt['user'].format(PARAGRAPH=dataset.iloc[i].paragraph)\n",
    "        try:\n",
    "            response = await agent.get_response_content(prompt_template=structured_prompt, response_format=ClimateClassification_2label)\n",
    "            return {\n",
    "                'paragraph': dataset.iloc[i].paragraph,\n",
    "                'true_label': dataset.iloc[i].label,\n",
    "                'predicted_label': response.classification,\n",
    "                'justification': response.justification\n",
    "            }\n",
    "        except Exception as e:\n",
    "            print(f\"Error processing row {i}: {str(e)}\")\n",
    "            return {\n",
    "                'paragraph': dataset.iloc[i].paragraph,\n",
    "                'true_label': dataset.iloc[i].label,\n",
    "                'predicted_label': None,\n",
    "                'justification': f\"Error: {str(e)}\"\n",
    "            }\n",
    "\n",
    "    tasks = [process_row(i) for i in range(len(dataset))]\n",
    "    results = await asyncio.gather(*tasks)\n",
    "    return pd.DataFrame(results)"
   ]
  },
  {
   "cell_type": "code",
   "execution_count": 8,
   "metadata": {},
   "outputs": [],
   "source": [
    "data_folder = '/ephemeral/home/xiong/data/Fund/Climate'\n",
    "# data_path = os.path.join(data_folder,'Climate training paragraphs.csv')\n",
    "# ds = load_split_climate_data(data_path,merge_neutral=True,verbose=True)\n",
    "# ds['test'].to_csv(data_folder+'/test.csv')\n",
    "# ds['validation'].to_csv(data_folder+'/validation.csv')\n",
    "# ds['train'].to_csv(data_folder+'/train.csv')\n",
    "test_data = pd.read_csv(data_folder+'/test.csv')\n",
    "val_data = pd.read_csv(data_folder+'/validation.csv')\n",
    "train_data = pd.read_csv(data_folder+'/train.csv')"
   ]
  },
  {
   "cell_type": "markdown",
   "metadata": {},
   "source": [
    "#### Setup experiment scenarios"
   ]
  },
  {
   "cell_type": "code",
   "execution_count": 42,
   "metadata": {},
   "outputs": [],
   "source": [
    "# Define model names, prompt templates, and API configuration\n",
    "model_name_list = ['Qwen/Qwen2.5-7B-Instruct','Qwen/Qwen2.5-32B-Instruct',\n",
    "                   'meta-llama/Llama-3.1-8B-Instruct','meta-llama/Llama-3.1-70B-Instruct',\n",
    "                   'deepseek-ai/DeepSeek-R1-Distill-Qwen-32B','deepseek-ai/DeepSeek-R1-Distill-Llama-70B',\n",
    "                   'Qwen/QwQ-32B','deepseek-ai/DeepSeek-R1-Distill-Llama-8B',\n",
    "                   'openai/gpt-4o-mini','openai/gpt-4o','openai/o1-mini','openai/o3-mini',\n",
    "                   'google/gemini-2.0-flash','anthropic/claude-3-7-sonnet-latest','deepseek/deepseek-R1']\n",
    "\n",
    "prompt_template_list = [long_fewshotcot_pt_2label, long_cot_pt_2label, short_cot_pt_2label]\n",
    "# Create dictionary with model names as keys and prompt templates as values\n",
    "experiment_dict = {}\n",
    "for model in model_name_list:\n",
    "    # Extract model name after the '/' character\n",
    "    model_short_name = model.split('/')[-1]\n",
    "    # Create nested dictionary for each prompt template with API configuration\n",
    "    experiment_dict[model_short_name] = {\n",
    "        'long_fewshot_cot': long_fewshotcot_pt_2label,\n",
    "        'long_cot': long_cot_pt_2label,\n",
    "        'short_cot': short_cot_pt_2label,\n",
    "    }"
   ]
  },
  {
   "cell_type": "markdown",
   "metadata": {},
   "source": [
    "#### Define model and initiate llm agent"
   ]
  },
  {
   "cell_type": "code",
   "execution_count": 22,
   "metadata": {},
   "outputs": [
    {
     "name": "stdout",
     "output_type": "stream",
     "text": [
      "Hi there! I'm ChatGPT, a language model developed by OpenAI. I'm here to help answer questions, provide information, and assist with whatever you need. How can I help you today?\n"
     ]
    }
   ],
   "source": [
    "## test openai models \n",
    "model_name = 'o3-mini'\n",
    "agent = BSAgent(model=model_name,\n",
    "                base_url=\"https://api.openai.com/v1/\",  \n",
    "                api_key=os.getenv(\"OPENAI_API_KEY\"),\n",
    "                seed=42,\n",
    "                temperature=1)\n",
    "agent.connection_test('hi,who are you?')"
   ]
  },
  {
   "cell_type": "code",
   "execution_count": 11,
   "metadata": {},
   "outputs": [
    {
     "name": "stdout",
     "output_type": "stream",
     "text": [
      "I'm an AI assistant created by Anthropic to be helpful, harmless, and honest. I'm designed to have conversations, answer questions, provide information, and assist with various tasks through text-based communication. I don't have a personal identity or consciousness - I function as a large language model trained on a broad dataset of text. How can I help you today?\n"
     ]
    }
   ],
   "source": [
    "## test claude models \n",
    "model_name = 'claude-3-7-sonnet-latest'\n",
    "agent = BSAgent(model=model_name,\n",
    "                base_url=\"https://api.anthropic.com/v1/\",\n",
    "                api_key=os.getenv(\"CLAUDE_API_KEY\")\n",
    "                )\n",
    "agent.connection_test('hi,who are you?',max_tokens=4000)\n"
   ]
  },
  {
   "cell_type": "code",
   "execution_count": 11,
   "metadata": {},
   "outputs": [
    {
     "name": "stdout",
     "output_type": "stream",
     "text": [
      "I am a large language model, trained by Google.\n",
      "\n"
     ]
    }
   ],
   "source": [
    "## test gemini models \n",
    "model_name = 'gemini-2.0-flash'\n",
    "agent = BSAgent(model=model_name,\n",
    "                base_url='https://generativelanguage.googleapis.com/v1beta/openai/',\n",
    "                api_key=os.getenv(\"GEMINI_API_KEY\"))\n",
    "agent.connection_test('hi,who are you?')"
   ]
  },
  {
   "cell_type": "code",
   "execution_count": 31,
   "metadata": {},
   "outputs": [
    {
     "name": "stdout",
     "output_type": "stream",
     "text": [
      "<think>\n",
      "Okay, the user asked, \"hi, who are you?\" I need to respond in a friendly and informative way.\n",
      "\n",
      "First, I should greet them back. \"Hi there!\" sounds good. Then, explain what I am. I'm an AI created by DeepSeek, so I should mention that. My purpose is to assist with information, answer questions, and help with tasks. I should keep it simple and welcoming. Maybe add a line about how I can help them today to invite further interaction. Let me check if that covers everything without being too technical. Yeah, that should work. Alright, time to put it all together.\n",
      "</think>\n",
      "\n",
      "Hi there! I'm DeepSeek-R1-Lite-Preview, an AI assistant created by DeepSeek. I'm here to help with answering questions, providing information, and assisting with tasks. How can I help you today?\n"
     ]
    }
   ],
   "source": [
    "## test deepseek r1 models \n",
    "model_name = 'deepseek-R1'\n",
    "agent = BSAgent(model=\"deepseek-ai/DeepSeek-R1\",\n",
    "                base_url='https://api.netmind.ai/inference-api/openai/v1',\n",
    "                api_key=os.getenv(\"NETMIND_API_KEY\"))\n",
    "agent.connection_test('hi,who are you?')"
   ]
  },
  {
   "cell_type": "code",
   "execution_count": 12,
   "metadata": {},
   "outputs": [],
   "source": [
    "\n",
    "# # Try other opens rousce modesl \n",
    "# # python -m vllm.entrypoints.openai.api_server --model /home/xiong/data/hf_cache/llama-3.1-8B-Instruct --dtype auto --servered_model_name llama-3.1-8b-Instruct\n",
    "\n",
    "# base_url = 'http://localhost:8100/v1'\n",
    "# api_key = 'abc'\n",
    "# model_name = 'Qwen2.5-7B-Instruct'\n",
    "# agent = BSAgent(base_url=base_url,\n",
    "#                 api_key=api_key,\n",
    "#                 model=model_name)\n",
    "# agent.connection_test('hi')\n",
    "# # agent.model = agent.client.models.list().data[0].id\n",
    "# # print(agent.model) "
   ]
  },
  {
   "cell_type": "code",
   "execution_count": 46,
   "metadata": {},
   "outputs": [
    {
     "name": "stderr",
     "output_type": "stream",
     "text": [
      "100%|██████████| 108/108 [10:38<00:00,  5.91s/it]\n"
     ]
    },
    {
     "name": "stdout",
     "output_type": "stream",
     "text": [
      "\n",
      "Validation Results: deepseek-R1 ; long_fewshot_cot\n",
      "Total samples: 108\n",
      "Successfully processed: 108\n",
      "Validation Accuracy: 81.48%\n"
     ]
    },
    {
     "name": "stderr",
     "output_type": "stream",
     "text": [
      "100%|██████████| 108/108 [10:17<00:00,  5.72s/it]\n"
     ]
    },
    {
     "name": "stdout",
     "output_type": "stream",
     "text": [
      "\n",
      "Validation Results: deepseek-R1 ; long_cot\n",
      "Total samples: 108\n",
      "Successfully processed: 108\n",
      "Validation Accuracy: 75.00%\n"
     ]
    },
    {
     "name": "stderr",
     "output_type": "stream",
     "text": [
      "100%|██████████| 108/108 [09:23<00:00,  5.22s/it]"
     ]
    },
    {
     "name": "stdout",
     "output_type": "stream",
     "text": [
      "\n",
      "Validation Results: deepseek-R1 ; short_cot\n",
      "Total samples: 108\n",
      "Successfully processed: 108\n",
      "Validation Accuracy: 75.00%\n"
     ]
    },
    {
     "name": "stderr",
     "output_type": "stream",
     "text": [
      "\n"
     ]
    }
   ],
   "source": [
    "# Get predictions for validation and test sets\n",
    "experiment = experiment_dict[model_name]\n",
    "for promt_type in experiment.keys():\n",
    "    if model_name == 'gemini-2.0-flash':\n",
    "        wait_time=2\n",
    "    else:\n",
    "        wait_time=0\n",
    "    if model_name == 'deepseek-R1':\n",
    "        formated_output = False\n",
    "    else:\n",
    "        formated_output = True\n",
    "    val_results = get_climate_classifications(agent, test_data, experiment[promt_type],wait_time,formated_output)\n",
    "    val_results.to_csv(os.path.join( data_folder,'training_eval_results','{}_{}_val_results_v2.csv'.format(model_name,promt_type)))\n",
    "\n",
    "    print(\"\\nValidation Results: {} ; {}\".format(model_name,promt_type))\n",
    "    print(f\"Total samples: {len(val_results)}\")\n",
    "    print(f\"Successfully processed: {len(val_results[val_results.predicted_label.notna()])}\")\n",
    "    val_accuracy = (val_results['true_label'] == val_results['predicted_label']).mean()\n",
    "    print(f\"Validation Accuracy: {val_accuracy:.2%}\")\n"
   ]
  },
  {
   "cell_type": "markdown",
   "metadata": {},
   "source": [
    "#### Try run with asyc clent"
   ]
  },
  {
   "cell_type": "code",
   "execution_count": 90,
   "metadata": {},
   "outputs": [
    {
     "name": "stdout",
     "output_type": "stream",
     "text": [
      "\n",
      "Training Results: Qwen2.5-7B-Instruct ; long_fewshot_cot\n",
      "Total samples: 504\n",
      "Successfully processed: 504\n",
      "Validation Accuracy: 74.40%\n",
      "\n",
      "Training Results: Qwen2.5-7B-Instruct ; long_cot\n",
      "Total samples: 504\n",
      "Successfully processed: 504\n",
      "Validation Accuracy: 73.61%\n",
      "\n",
      "Training Results: Qwen2.5-7B-Instruct ; short_cot\n",
      "Total samples: 504\n",
      "Successfully processed: 504\n",
      "Validation Accuracy: 71.43%\n"
     ]
    }
   ],
   "source": [
    "async_agent = AsyncBSAgent(model=model_name,\n",
    "                     base_url=base_url,\n",
    "                     api_key=api_key)\n",
    "# Get predictions for validation and test sets\n",
    "for promt_type in experiment.keys():\n",
    "    train_results = asyncio.run(async_get_climate_classifications(async_agent, train_data, experiment[promt_type]))\n",
    "    train_results.to_csv(os.path.join( data_folder,'training_eval_results','{}_{}_train_results_v2.csv'.format(model_name,promt_type)))\n",
    "    print(\"\\nTraining Results: {} ; {}\".format(model_name,promt_type))\n",
    "    print(f\"Total samples: {len(train_results)}\")\n",
    "    print(f\"Successfully processed: {len(train_results[train_results.predicted_label.notna()])}\")\n",
    "    train_accuracy = (train_results['true_label'] == train_results['predicted_label']).mean()\n",
    "    print(f\"Validation Accuracy: {train_accuracy:.2%}\")"
   ]
  },
  {
   "cell_type": "code",
   "execution_count": null,
   "metadata": {},
   "outputs": [],
   "source": []
  }
 ],
 "metadata": {
  "kernelspec": {
   "display_name": "llm",
   "language": "python",
   "name": "python3"
  },
  "language_info": {
   "codemirror_mode": {
    "name": "ipython",
    "version": 3
   },
   "file_extension": ".py",
   "mimetype": "text/x-python",
   "name": "python",
   "nbconvert_exporter": "python",
   "pygments_lexer": "ipython3",
   "version": "3.11.11"
  }
 },
 "nbformat": 4,
 "nbformat_minor": 2
}
